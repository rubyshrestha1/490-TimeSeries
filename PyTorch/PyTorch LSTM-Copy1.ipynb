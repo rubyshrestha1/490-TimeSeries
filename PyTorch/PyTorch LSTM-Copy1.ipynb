{
 "cells": [
  {
   "cell_type": "code",
   "execution_count": null,
   "id": "f3e96a91",
   "metadata": {},
   "outputs": [],
   "source": [
    "import torch\n",
    "import torch.nn as nn\n",
    "\n",
    "import seaborn as sns\n",
    "import numpy as np\n",
    "import pandas as pd\n",
    "import matplotlib.pyplot as plt\n",
    "%matplotlib inline"
   ]
  },
  {
   "cell_type": "code",
   "execution_count": null,
   "id": "6d926453",
   "metadata": {},
   "outputs": [],
   "source": [
    "#sns.get_dataset_names()"
   ]
  },
  {
   "cell_type": "code",
   "execution_count": null,
   "id": "6fd7e80f",
   "metadata": {},
   "outputs": [],
   "source": [
    "flight_data = sns.load_dataset(\"flights\")\n",
    "flight_data.head()\n",
    "flight_data.shape"
   ]
  },
  {
   "cell_type": "code",
   "execution_count": null,
   "id": "9b3effa5",
   "metadata": {},
   "outputs": [],
   "source": [
    "fig_size = plt.rcParams[\"figure.figsize\"]\n",
    "fig_size[0] = 15\n",
    "fig_size[1] = 5\n",
    "plt.rcParams[\"figure.figsize\"] = fig_size"
   ]
  },
  {
   "cell_type": "code",
   "execution_count": null,
   "id": "b2747bc0",
   "metadata": {},
   "outputs": [],
   "source": [
    "plt.title('Month vs Passenger')\n",
    "plt.ylabel('Total Passengers')\n",
    "plt.xlabel('Months')\n",
    "plt.grid(True)\n",
    "plt.autoscale(axis='x',tight=True)\n",
    "plt.plot(flight_data['passengers'])"
   ]
  },
  {
   "cell_type": "code",
   "execution_count": null,
   "id": "a6a60cba",
   "metadata": {},
   "outputs": [],
   "source": [
    "flight_data.columns"
   ]
  },
  {
   "cell_type": "code",
   "execution_count": null,
   "id": "f046d0cf",
   "metadata": {},
   "outputs": [],
   "source": [
    "all_data = flight_data['passengers'].values.astype(float)"
   ]
  },
  {
   "cell_type": "code",
   "execution_count": null,
   "id": "9adee4c3",
   "metadata": {},
   "outputs": [],
   "source": [
    "test_data_size = 12\n",
    "\n",
    "train_data = all_data[:-test_data_size]\n",
    "test_data = all_data[-test_data_size:]"
   ]
  },
  {
   "cell_type": "code",
   "execution_count": null,
   "id": "0a33d11b",
   "metadata": {},
   "outputs": [],
   "source": [
    "print(len(train_data))\n",
    "print(len(test_data))"
   ]
  },
  {
   "cell_type": "code",
   "execution_count": null,
   "id": "961be324",
   "metadata": {},
   "outputs": [],
   "source": [
    "print(test_data)"
   ]
  },
  {
   "cell_type": "code",
   "execution_count": null,
   "id": "732b7b23",
   "metadata": {},
   "outputs": [],
   "source": [
    "from sklearn.preprocessing import MinMaxScaler\n",
    "\n",
    "scaler = MinMaxScaler(feature_range=(-1, 1))\n",
    "train_data_normalized = scaler.fit_transform(train_data .reshape(-1, 1))"
   ]
  },
  {
   "cell_type": "code",
   "execution_count": null,
   "id": "926a7c42",
   "metadata": {},
   "outputs": [],
   "source": [
    "print(train_data_normalized[:5])\n",
    "print(train_data_normalized[-5:])"
   ]
  },
  {
   "cell_type": "code",
   "execution_count": null,
   "id": "de508fdc",
   "metadata": {},
   "outputs": [],
   "source": [
    "train_data_normalized = torch.FloatTensor(train_data_normalized).view(-1)\n",
    "train_data_normalized.shape"
   ]
  },
  {
   "cell_type": "code",
   "execution_count": null,
   "id": "972d71d8",
   "metadata": {},
   "outputs": [],
   "source": [
    "train_window = 12"
   ]
  },
  {
   "cell_type": "code",
   "execution_count": null,
   "id": "fb70499a",
   "metadata": {},
   "outputs": [],
   "source": [
    "def create_inout_sequences(input_data, tw):\n",
    "    inout_seq = []\n",
    "    L = len(input_data)\n",
    "    for i in range(L-tw):\n",
    "        train_seq = input_data[i:i+tw]\n",
    "        train_label = input_data[i+tw:i+tw+1]\n",
    "        inout_seq.append((train_seq ,train_label))\n",
    "    return inout_seq"
   ]
  },
  {
   "cell_type": "code",
   "execution_count": null,
   "id": "48fd3a78",
   "metadata": {},
   "outputs": [],
   "source": [
    "train_inout_seq = create_inout_sequences(train_data_normalized, train_window)\n",
    "len(train_inout_seq)"
   ]
  },
  {
   "cell_type": "code",
   "execution_count": null,
   "id": "96d0a96c",
   "metadata": {},
   "outputs": [],
   "source": [
    "train_inout_seq[:5]"
   ]
  },
  {
   "cell_type": "code",
   "execution_count": null,
   "id": "d30b19dd",
   "metadata": {},
   "outputs": [],
   "source": [
    "torch.zeros(1,1,10)"
   ]
  },
  {
   "cell_type": "code",
   "execution_count": null,
   "id": "4c5d0e6d",
   "metadata": {},
   "outputs": [],
   "source": [
    "seq, label = train_inout_seq[0]\n",
    "seq"
   ]
  },
  {
   "cell_type": "code",
   "execution_count": null,
   "id": "d2b27163",
   "metadata": {},
   "outputs": [],
   "source": [
    "seq.shape"
   ]
  },
  {
   "cell_type": "code",
   "execution_count": null,
   "id": "e69f04d6",
   "metadata": {},
   "outputs": [],
   "source": [
    "a=seq.view(len(seq), 1 , -1)  #-1 so that number of elements in view matches the original number of elements"
   ]
  },
  {
   "cell_type": "code",
   "execution_count": null,
   "id": "1ad0afa6",
   "metadata": {},
   "outputs": [],
   "source": [
    "b=torch.reshape(seq, (len(seq), 1,1 ))"
   ]
  },
  {
   "cell_type": "code",
   "execution_count": null,
   "id": "160d27dc",
   "metadata": {},
   "outputs": [],
   "source": [
    "hidden_cell = (torch.zeros(1,1,5),\n",
    "                            torch.zeros(1,1,5))\n",
    "hidden_cell"
   ]
  },
  {
   "cell_type": "code",
   "execution_count": null,
   "id": "d8b3a1ff",
   "metadata": {},
   "outputs": [],
   "source": []
  },
  {
   "cell_type": "code",
   "execution_count": null,
   "id": "46a034b3",
   "metadata": {},
   "outputs": [],
   "source": [
    "class LSTM(nn.Module):\n",
    "    #HIDDEN LAYER SIZE WAS 100 initially\n",
    "    def __init__(self, input_size=1, hidden_layer_size=100, output_size=1):\n",
    "        super().__init__()\n",
    "        self.hidden_layer_size = hidden_layer_size\n",
    "\n",
    "        self.lstm = nn.LSTM(input_size, hidden_layer_size)\n",
    "\n",
    "        self.linear = nn.Linear(hidden_layer_size, output_size)\n",
    "\n",
    "        self.hidden_cell = (torch.zeros(1,1,self.hidden_layer_size),\n",
    "                            torch.zeros(1,1,self.hidden_layer_size))\n",
    "        #self.arr_sd =[]\n",
    "\n",
    "    def forward(self, input_seq):\n",
    "        lstm_out, self.hidden_cell = self.lstm(input_seq.view(len(input_seq) ,1, -1), self.hidden_cell)\n",
    "        std_lstm = torch.std(lstm_out)\n",
    "        print (\"LSTM: \", std_lstm.item())\n",
    "        #lstm_out = lstm_out[:, -1] # convert to 2D -- same as #lstm_out_reshaped = lstm_out.view(len(input_seq), -1)  \n",
    "       #print (\"LSTM: \", lstm_out.shape)\n",
    "       # print (\"Hidden: \",self.hidden_cell)\n",
    "        #  print (\"RESHAPED: \", lstm_out_reshaped[-1])\n",
    "       # arr= lstm_out_reshaped.detach().numpy()\n",
    "        #print(arr)\n",
    "        #print()\n",
    "       # sd = torch.std(lstm_out_reshaped)\n",
    "        #arr_sd.append(sd)\n",
    "        predictions = self.linear(lstm_out.view(len(input_seq), -1))\n",
    "        #print (\"Predictions: \", predictions)\n",
    "        #print (\"Predictions[-1] \",predictions[-1])\n",
    "     \n",
    "        #return predictions[-1]\n",
    "        return lstm_out"
   ]
  },
  {
   "cell_type": "code",
   "execution_count": null,
   "id": "4fcc425b",
   "metadata": {},
   "outputs": [],
   "source": [
    "model = LSTM()\n",
    "loss_function = nn.MSELoss()\n",
    "optimizer = torch.optim.Adam(model.parameters(), lr=0.001)"
   ]
  },
  {
   "cell_type": "code",
   "execution_count": null,
   "id": "5b695107",
   "metadata": {},
   "outputs": [],
   "source": [
    "print(model)"
   ]
  },
  {
   "cell_type": "code",
   "execution_count": null,
   "id": "2635410d",
   "metadata": {},
   "outputs": [],
   "source": []
  },
  {
   "cell_type": "code",
   "execution_count": null,
   "id": "b1842f6c",
   "metadata": {
    "scrolled": false
   },
   "outputs": [],
   "source": [
    "epochs =100\n",
    "loss=[]\n",
    "epoch=[]\n",
    "lstm_out_list = []\n",
    "std_list =[]\n",
    "t= torch.zeros(12,1,5)\n",
    "for i in range(epochs):\n",
    "    #print (\"Epoch  \", i)\n",
    "    for seq, labels in train_inout_seq:\n",
    "        optimizer.zero_grad()\n",
    "        model.hidden_cell = (torch.zeros(1, 1, model.hidden_layer_size),\n",
    "                        torch.zeros(1, 1, model.hidden_layer_size))\n",
    "\n",
    "        y_pred = model(seq)\n",
    "        lstm_out_list.append(y_pred)\n",
    "        #print(\"List: \", lstm_out_list)\n",
    "        single_loss = loss_function(y_pred, labels) \n",
    "        single_loss.backward()\n",
    "        optimizer.step()\n",
    "    #print(f'epoch: {i:3} loss: {single_loss.item():10.8f}')\n",
    "    \n",
    "    #print(lstm_out_list)\n",
    "    lstm_out_tuple = tuple(lstm_out_list)\n",
    "    #print(\"Tuple: \",lstm_out_tuple)\n",
    "    t= torch.stack(lstm_out_tuple)\n",
    "   # print(\"Stacked: \", t)\n",
    "    lstm_out_std= torch.std(t)\n",
    "    #print(lstm_out_std)\n",
    "\n",
    "    std_list.append(lstm_out_std.detach().numpy())  # detach to remove gradient component\n",
    "   # print (\"----------------------------------------------------------------------------------\\n-----------------------------------------------\")\n",
    "    \n",
    "    epoch.append(i)\n",
    "    #print()\n",
    "    #if i%25 == 1:\n",
    "    #    print(f'epoch: {i:3} loss: {single_loss.item():10.8f}')\n",
    "\n",
    "#print(f'epoch: {i:3} loss: {single_loss.item():10.10f}')"
   ]
  },
  {
   "cell_type": "code",
   "execution_count": null,
   "id": "e6535702",
   "metadata": {},
   "outputs": [],
   "source": [
    "plt.plot(epoch, std_list)"
   ]
  },
  {
   "cell_type": "code",
   "execution_count": null,
   "id": "a8761a65",
   "metadata": {},
   "outputs": [],
   "source": []
  },
  {
   "cell_type": "code",
   "execution_count": null,
   "id": "a06c275b",
   "metadata": {},
   "outputs": [],
   "source": [
    "epochs = 100\n",
    "loss=[]\n",
    "epoch=[]\n",
    "for i in range(epochs):\n",
    "    for seq, labels in train_inout_seq:\n",
    "        optimizer.zero_grad()\n",
    "        model.hidden_cell = (torch.zeros(1, 1, model.hidden_layer_size),\n",
    "                        torch.zeros(1, 1, model.hidden_layer_size))\n",
    "\n",
    "        y_pred = model(seq)\n",
    "  \n",
    "        single_loss = loss_function(y_pred, labels)\n",
    "        single_loss.backward()\n",
    "        optimizer.step()\n",
    "    #print(f'epoch: {i:3} loss: {single_loss.item():10.8f}')\n",
    "    loss.append(round(single_loss.item(), 8))\n",
    "    epoch.append(i)\n",
    "    #print()\n",
    "    if i%10 == 0:\n",
    "        print(f'epoch: {i:3} loss: {single_loss.item():10.8f}')\n",
    "\n",
    "#print(f'epoch: {i:3} loss: {single_loss.item():10.10f}')"
   ]
  },
  {
   "cell_type": "code",
   "execution_count": null,
   "id": "b1fe4a09",
   "metadata": {},
   "outputs": [],
   "source": [
    "plt.plot(epoch, loss)"
   ]
  },
  {
   "cell_type": "code",
   "execution_count": null,
   "id": "9c3d4f25",
   "metadata": {},
   "outputs": [],
   "source": [
    "fut_pred = 12\n",
    "\n",
    "test_inputs = train_data_normalized[-train_window:].tolist()\n",
    "print(test_inputs)"
   ]
  },
  {
   "cell_type": "code",
   "execution_count": null,
   "id": "896de6d5",
   "metadata": {},
   "outputs": [],
   "source": [
    "model.eval()\n",
    "\n"
   ]
  },
  {
   "cell_type": "code",
   "execution_count": null,
   "id": "cd63658a",
   "metadata": {},
   "outputs": [],
   "source": [
    "test_inputs"
   ]
  },
  {
   "cell_type": "code",
   "execution_count": null,
   "id": "9c63e836",
   "metadata": {},
   "outputs": [],
   "source": [
    "test_inputs[-train_window:]"
   ]
  },
  {
   "cell_type": "code",
   "execution_count": null,
   "id": "bc0cd436",
   "metadata": {},
   "outputs": [],
   "source": [
    "for i in range(fut_pred):\n",
    "    seq = torch.FloatTensor(test_inputs[-train_window:])\n",
    "    with torch.no_grad():\n",
    "        model.hidden = (torch.zeros(1, 1, model.hidden_layer_size),\n",
    "                        torch.zeros(1, 1, model.hidden_layer_size))\n",
    "        #test_inputs.append(model(seq).item())\n",
    "        test_inputs.append(model(seq))"
   ]
  },
  {
   "cell_type": "code",
   "execution_count": null,
   "id": "b6920cf7",
   "metadata": {},
   "outputs": [],
   "source": [
    "test_inputs[fut_pred:]"
   ]
  },
  {
   "cell_type": "code",
   "execution_count": null,
   "id": "edd17d01",
   "metadata": {},
   "outputs": [],
   "source": [
    "actual_predictions = scaler.inverse_transform(np.array(test_inputs[train_window:] ).reshape(-1, 1))\n",
    "print(actual_predictions)"
   ]
  },
  {
   "cell_type": "code",
   "execution_count": null,
   "id": "b9a2c541",
   "metadata": {},
   "outputs": [],
   "source": [
    "x = np.arange(132, 144, 1)\n",
    "print(x)"
   ]
  },
  {
   "cell_type": "code",
   "execution_count": null,
   "id": "8f152656",
   "metadata": {},
   "outputs": [],
   "source": [
    "plt.title('Month vs Passenger')\n",
    "plt.ylabel('Total Passengers')\n",
    "plt.grid(True)\n",
    "plt.autoscale(axis='x', tight=True)\n",
    "plt.plot(flight_data['passengers'])\n",
    "plt.plot(x,actual_predictions)\n",
    "plt.show()"
   ]
  },
  {
   "cell_type": "code",
   "execution_count": null,
   "id": "9b2dc0cf",
   "metadata": {},
   "outputs": [],
   "source": [
    "plt.title('Month vs Passenger')\n",
    "plt.ylabel('Total Passengers')\n",
    "plt.grid(True)\n",
    "plt.autoscale(axis='x', tight=True)\n",
    "\n",
    "plt.plot(flight_data['passengers'][-train_window:])\n",
    "plt.plot(x,actual_predictions)\n",
    "plt.show()"
   ]
  },
  {
   "cell_type": "code",
   "execution_count": null,
   "id": "e48240ef",
   "metadata": {},
   "outputs": [],
   "source": []
  },
  {
   "cell_type": "code",
   "execution_count": null,
   "id": "0ab98f43",
   "metadata": {},
   "outputs": [],
   "source": []
  },
  {
   "cell_type": "code",
   "execution_count": null,
   "id": "acb7939c",
   "metadata": {},
   "outputs": [],
   "source": []
  },
  {
   "cell_type": "code",
   "execution_count": null,
   "id": "6503067b",
   "metadata": {},
   "outputs": [],
   "source": []
  },
  {
   "cell_type": "code",
   "execution_count": null,
   "id": "8a63521f",
   "metadata": {},
   "outputs": [],
   "source": []
  },
  {
   "cell_type": "code",
   "execution_count": null,
   "id": "8c603345",
   "metadata": {},
   "outputs": [],
   "source": []
  },
  {
   "cell_type": "code",
   "execution_count": null,
   "id": "ee59fcb5",
   "metadata": {},
   "outputs": [],
   "source": []
  },
  {
   "cell_type": "code",
   "execution_count": null,
   "id": "170209b1",
   "metadata": {},
   "outputs": [],
   "source": []
  },
  {
   "cell_type": "code",
   "execution_count": null,
   "id": "15ec2a03",
   "metadata": {},
   "outputs": [],
   "source": []
  },
  {
   "cell_type": "code",
   "execution_count": null,
   "id": "c81fbf6c",
   "metadata": {},
   "outputs": [],
   "source": []
  },
  {
   "cell_type": "code",
   "execution_count": null,
   "id": "70e8608f",
   "metadata": {},
   "outputs": [],
   "source": []
  }
 ],
 "metadata": {
  "kernelspec": {
   "display_name": "Python 3 (ipykernel)",
   "language": "python",
   "name": "python3"
  },
  "language_info": {
   "codemirror_mode": {
    "name": "ipython",
    "version": 3
   },
   "file_extension": ".py",
   "mimetype": "text/x-python",
   "name": "python",
   "nbconvert_exporter": "python",
   "pygments_lexer": "ipython3",
   "version": "3.8.10"
  }
 },
 "nbformat": 4,
 "nbformat_minor": 5
}
